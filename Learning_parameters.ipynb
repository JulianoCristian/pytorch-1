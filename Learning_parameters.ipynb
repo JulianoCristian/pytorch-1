{
 "cells": [
  {
   "cell_type": "code",
   "execution_count": 1,
   "metadata": {},
   "outputs": [],
   "source": [
    "import torch\n",
    "import torch.nn as nn\n",
    "from torch import optim\n",
    "import torch.nn.functional as F\n",
    "import random\n",
    "from torch.distributions import multivariate_normal as mn"
   ]
  },
  {
   "cell_type": "code",
   "execution_count": 2,
   "metadata": {},
   "outputs": [],
   "source": [
    "class FeedForward(nn.Module):\n",
    "    def __init__(self,input_size,hidden_size,output_size):\n",
    "        super(FeedForward, self).__init__()\n",
    "\n",
    "        self.input_size = input_size\n",
    "        self.hidden_size = hidden_size\n",
    "        self.output_size = output_size\n",
    "\n",
    "        self.i2h = nn.Linear(input_size,hidden_size)\n",
    "        self.h2o = nn.Linear(hidden_size,output_size)\n",
    "        self.sigmoid = nn.LogSigmoid()\n",
    "\n",
    "    def forward(self,input):\n",
    "        hidden = self.i2h(input)\n",
    "        output = self.h2o(hidden)\n",
    "        output = self.sigmoid(output)\n",
    "        return output"
   ]
  },
  {
   "cell_type": "code",
   "execution_count": 3,
   "metadata": {},
   "outputs": [],
   "source": [
    "def generate_data(samp_size):\n",
    "    mean_1 = torch.Tensor([4,4])\n",
    "    covar_1 = torch.Tensor([[2,1],[1,2]])\n",
    "    sampler_1 = mn.MultivariateNormal(mean_1,covar_1)\n",
    "\n",
    "    mean_2 = torch.Tensor([-4,-4])\n",
    "    covar_2 = torch.Tensor([[2,1],[1,2]])\n",
    "    sampler_2 = mn.MultivariateNormal(mean_2,covar_2)\n",
    "\n",
    "    sample_lebel_1 = sampler_1.sample(sample_shape=(int(samp_size/2),1))\n",
    "    sample_lebel_2 = sampler_2.sample(sample_shape=(int(samp_size/2),1))\n",
    "\n",
    "    return sample_lebel_1,sample_lebel_2"
   ]
  },
  {
   "cell_type": "code",
   "execution_count": 4,
   "metadata": {},
   "outputs": [],
   "source": [
    "sample_lebel_1,sample_lebel_2 = generate_data(10000)"
   ]
  },
  {
   "cell_type": "code",
   "execution_count": 5,
   "metadata": {},
   "outputs": [
    {
     "data": {
      "text/plain": [
       "torch.Size([5000, 1, 2])"
      ]
     },
     "execution_count": 5,
     "metadata": {},
     "output_type": "execute_result"
    }
   ],
   "source": [
    "sample_lebel_1.size()"
   ]
  },
  {
   "cell_type": "code",
   "execution_count": 6,
   "metadata": {},
   "outputs": [
    {
     "data": {
      "text/plain": [
       "torch.Size([5000, 1, 2])"
      ]
     },
     "execution_count": 6,
     "metadata": {},
     "output_type": "execute_result"
    }
   ],
   "source": [
    "sample_lebel_2.size()"
   ]
  },
  {
   "cell_type": "code",
   "execution_count": 17,
   "metadata": {},
   "outputs": [],
   "source": [
    "def train(feedforward, sample_lebel_1, sample_lebel_2, epochs=1, learning_rate=0.001):\n",
    "    optimizer = optim.Adam(feedforward.parameters(), lr=learning_rate)\n",
    "    cnt_samp_1 = 0\n",
    "    cnt_samp_2 = 0\n",
    "    iters = 0\n",
    "    for i in range(epochs):\n",
    "        while cnt_samp_1<5000 or cnt_samp_2<5000:\n",
    "            iters+=1\n",
    "            # selecting one of the classes randomly\n",
    "            if random.random()>0.5:\n",
    "                if cnt_samp_1<5000:\n",
    "                    input_tensor = sample_lebel_1[cnt_samp_1]\n",
    "                    label_tensor = torch.tensor(1,dtype=torch.float32).view(1,1)\n",
    "                    cnt_samp_1+=1\n",
    "                else:\n",
    "                    input_tensor = sample_lebel_2[cnt_samp_2]\n",
    "                    label_tensor = torch.tensor(0,dtype=torch.float32).view(1,1)\n",
    "                    cnt_samp_2+=1\n",
    "            else:\n",
    "                if cnt_samp_2<5000:\n",
    "                    input_tensor = sample_lebel_2[cnt_samp_2]\n",
    "                    label_tensor = torch.tensor(0,dtype=torch.float32).view(1,1)\n",
    "                    cnt_samp_2+=1\n",
    "                else:\n",
    "                    input_tensor = sample_lebel_1[cnt_samp_1]\n",
    "                    label_tensor = torch.tensor(1,dtype=torch.float32).view(1,1)\n",
    "                    cnt_samp_1+=1\n",
    "\n",
    "            output = feedforward(input_tensor)\n",
    "\n",
    "            loss = torch.abs(output - label_tensor)\n",
    "\n",
    "            if iters%100==0:\n",
    "                print(\"Loss: \",loss)\n",
    "\n",
    "            optimizer.zero_grad()\n",
    "\n",
    "            loss.backward(retain_graph=True)\n",
    "            optimizer.step()"
   ]
  },
  {
   "cell_type": "code",
   "execution_count": 10,
   "metadata": {},
   "outputs": [],
   "source": [
    "input_size = 2\n",
    "hidden_size = 10\n",
    "output_size = 1"
   ]
  },
  {
   "cell_type": "code",
   "execution_count": 11,
   "metadata": {},
   "outputs": [],
   "source": [
    "feedforward = FeedForward(2,10,1)"
   ]
  },
  {
   "cell_type": "code",
   "execution_count": 18,
   "metadata": {},
   "outputs": [
    {
     "name": "stdout",
     "output_type": "stream",
     "text": [
      "Loss:  tensor([[ 0.3336]])\n",
      "Loss:  tensor([[ 1.3639]])\n",
      "Loss:  tensor([[ 1.2016]])\n",
      "Loss:  tensor([[ 0.2472]])\n",
      "Loss:  tensor([[ 1.1117]])\n",
      "Loss:  tensor([[ 0.1319]])\n",
      "Loss:  tensor([[ 1.0715]])\n",
      "Loss:  tensor([[ 1.0445]])\n",
      "Loss:  tensor([[ 1.0501]])\n",
      "Loss:  tensor([[ 1.0311]])\n",
      "Loss:  tensor([[ 1.0320]])\n",
      "Loss:  tensor(1.00000e-02 *\n",
      "       [[ 4.2471]])\n",
      "Loss:  tensor(1.00000e-02 *\n",
      "       [[ 1.4336]])\n",
      "Loss:  tensor(1.00000e-02 *\n",
      "       [[ 1.2684]])\n",
      "Loss:  tensor(1.00000e-02 *\n",
      "       [[ 1.6474]])\n",
      "Loss:  tensor([[ 1.0070]])\n",
      "Loss:  tensor(1.00000e-03 *\n",
      "       [[ 9.2128]])\n",
      "Loss:  tensor(1.00000e-03 *\n",
      "       [[ 7.7754]])\n",
      "Loss:  tensor(1.00000e-03 *\n",
      "       [[ 8.8178]])\n",
      "Loss:  tensor([[ 1.0062]])\n",
      "Loss:  tensor(1.00000e-03 *\n",
      "       [[ 5.8602]])\n",
      "Loss:  tensor(1.00000e-03 *\n",
      "       [[ 4.4844]])\n",
      "Loss:  tensor(1.00000e-03 *\n",
      "       [[ 3.9568]])\n",
      "Loss:  tensor(1.00000e-03 *\n",
      "       [[ 3.9271]])\n",
      "Loss:  tensor(1.00000e-03 *\n",
      "       [[ 4.6786]])\n",
      "Loss:  tensor([[ 1.0036]])\n",
      "Loss:  tensor([[ 1.0029]])\n",
      "Loss:  tensor(1.00000e-03 *\n",
      "       [[ 3.0324]])\n",
      "Loss:  tensor(1.00000e-03 *\n",
      "       [[ 3.5124]])\n",
      "Loss:  tensor([[ 1.0019]])\n",
      "Loss:  tensor([[ 1.0023]])\n",
      "Loss:  tensor([[ 1.0022]])\n",
      "Loss:  tensor([[ 1.0025]])\n",
      "Loss:  tensor([[ 1.0014]])\n",
      "Loss:  tensor(1.00000e-03 *\n",
      "       [[ 1.9178]])\n",
      "Loss:  tensor([[ 1.0012]])\n",
      "Loss:  tensor(1.00000e-03 *\n",
      "       [[ 2.1451]])\n",
      "Loss:  tensor([[ 1.0015]])\n",
      "Loss:  tensor(1.00000e-03 *\n",
      "       [[ 1.3362]])\n",
      "Loss:  tensor([[ 1.0015]])\n",
      "Loss:  tensor([[ 1.0008]])\n",
      "Loss:  tensor(1.00000e-04 *\n",
      "       [[ 7.5634]])\n",
      "Loss:  tensor(1.00000e-03 *\n",
      "       [[ 1.4692]])\n",
      "Loss:  tensor(1.00000e-04 *\n",
      "       [[ 9.2642]])\n",
      "Loss:  tensor(1.00000e-04 *\n",
      "       [[ 5.8681]])\n",
      "Loss:  tensor(1.00000e-04 *\n",
      "       [[ 5.8908]])\n",
      "Loss:  tensor(1.00000e-04 *\n",
      "       [[ 5.3117]])\n",
      "Loss:  tensor([[ 1.0006]])\n",
      "Loss:  tensor(1.00000e-04 *\n",
      "       [[ 3.8473]])\n",
      "Loss:  tensor(1.00000e-04 *\n",
      "       [[ 4.1226]])\n",
      "Loss:  tensor(1.00000e-04 *\n",
      "       [[ 7.8254]])\n",
      "Loss:  tensor(1.00000e-04 *\n",
      "       [[ 6.1600]])\n",
      "Loss:  tensor([[ 1.0005]])\n",
      "Loss:  tensor(1.00000e-04 *\n",
      "       [[ 4.6100]])\n",
      "Loss:  tensor(1.00000e-04 *\n",
      "       [[ 4.0666]])\n",
      "Loss:  tensor([[ 1.0003]])\n",
      "Loss:  tensor(1.00000e-04 *\n",
      "       [[ 2.8940]])\n",
      "Loss:  tensor(1.00000e-04 *\n",
      "       [[ 3.6436]])\n",
      "Loss:  tensor([[ 1.0002]])\n",
      "Loss:  tensor(1.00000e-04 *\n",
      "       [[ 2.3458]])\n",
      "Loss:  tensor(1.00000e-04 *\n",
      "       [[ 2.0895]])\n",
      "Loss:  tensor(1.00000e-04 *\n",
      "       [[ 2.0168]])\n",
      "Loss:  tensor([[ 1.0003]])\n",
      "Loss:  tensor([[ 1.0002]])\n",
      "Loss:  tensor([[ 1.0002]])\n",
      "Loss:  tensor(1.00000e-04 *\n",
      "       [[ 1.7486]])\n",
      "Loss:  tensor([[ 1.0003]])\n",
      "Loss:  tensor([[ 1.0001]])\n",
      "Loss:  tensor(1.00000e-04 *\n",
      "       [[ 1.2921]])\n",
      "Loss:  tensor([[ 1.0001]])\n",
      "Loss:  tensor(1.00000e-04 *\n",
      "       [[ 1.1515]])\n",
      "Loss:  tensor(1.00000e-04 *\n",
      "       [[ 1.8738]])\n",
      "Loss:  tensor([[ 1.0001]])\n",
      "Loss:  tensor([[ 1.0001]])\n",
      "Loss:  tensor(1.00000e-05 *\n",
      "       [[ 6.8662]])\n",
      "Loss:  tensor([[ 1.0001]])\n",
      "Loss:  tensor(1.00000e-05 *\n",
      "       [[ 6.9854]])\n",
      "Loss:  tensor([[ 1.0001]])\n",
      "Loss:  tensor([[ 1.0001]])\n",
      "Loss:  tensor(1.00000e-05 *\n",
      "       [[ 9.1787]])\n",
      "Loss:  tensor([[ 1.0001]])\n",
      "Loss:  tensor(1.00000e-05 *\n",
      "       [[ 4.7563]])\n",
      "Loss:  tensor([[ 1.0001]])\n",
      "Loss:  tensor(1.00000e-05 *\n",
      "       [[ 7.2238]])\n",
      "Loss:  tensor(1.00000e-05 *\n",
      "       [[ 5.5073]])\n",
      "Loss:  tensor([[ 1.0001]])\n",
      "Loss:  tensor([[ 1.0001]])\n",
      "Loss:  tensor(1.00000e-05 *\n",
      "       [[ 5.4239]])\n",
      "Loss:  tensor(1.00000e-05 *\n",
      "       [[ 7.9748]])\n",
      "Loss:  tensor(1.00000e-05 *\n",
      "       [[ 3.3736]])\n",
      "Loss:  tensor(1.00000e-05 *\n",
      "       [[ 5.3285]])\n",
      "Loss:  tensor([[ 1.0000]])\n",
      "Loss:  tensor(1.00000e-05 *\n",
      "       [[ 5.6623]])\n",
      "Loss:  tensor(1.00000e-05 *\n",
      "       [[ 1.9550]])\n",
      "Loss:  tensor(1.00000e-05 *\n",
      "       [[ 2.1696]])\n",
      "Loss:  tensor(1.00000e-05 *\n",
      "       [[ 2.7418]])\n",
      "Loss:  tensor([[ 1.0000]])\n",
      "Loss:  tensor(1.00000e-05 *\n",
      "       [[ 3.9457]])\n",
      "Loss:  tensor(1.00000e-05 *\n",
      "       [[ 1.6928]])\n",
      "Loss:  tensor(1.00000e-05 *\n",
      "       [[ 1.2278]])\n"
     ]
    }
   ],
   "source": [
    "train(feedforward,sample_lebel_1,sample_lebel_2)"
   ]
  },
  {
   "cell_type": "code",
   "execution_count": 21,
   "metadata": {},
   "outputs": [
    {
     "data": {
      "text/plain": [
       "Parameter containing:\n",
       "tensor([[-0.5739, -0.4829],\n",
       "        [ 0.3236, -0.5658],\n",
       "        [-0.6228, -0.3828],\n",
       "        [ 0.2819,  0.0272],\n",
       "        [-0.4898,  0.0098],\n",
       "        [-0.1354,  0.3207],\n",
       "        [ 0.4265, -0.0620],\n",
       "        [-0.6739,  0.3346],\n",
       "        [ 0.4202,  0.3044],\n",
       "        [-0.5134, -0.4392]])"
      ]
     },
     "execution_count": 21,
     "metadata": {},
     "output_type": "execute_result"
    }
   ],
   "source": [
    "feedforward.i2h.weight"
   ]
  },
  {
   "cell_type": "code",
   "execution_count": 22,
   "metadata": {},
   "outputs": [
    {
     "data": {
      "text/plain": [
       "Parameter containing:\n",
       "tensor([ 1.2533, -2.3468,  1.3592,  1.1656, -1.7957, -2.6047, -2.4619,\n",
       "        -2.6159,  1.0329,  0.0351])"
      ]
     },
     "execution_count": 22,
     "metadata": {},
     "output_type": "execute_result"
    }
   ],
   "source": [
    "feedforward.i2h.bias"
   ]
  },
  {
   "cell_type": "code",
   "execution_count": 24,
   "metadata": {},
   "outputs": [
    {
     "data": {
      "text/plain": [
       "torch.Size([1, 10])"
      ]
     },
     "execution_count": 24,
     "metadata": {},
     "output_type": "execute_result"
    }
   ],
   "source": [
    "feedforward.h2o.weight.size()"
   ]
  },
  {
   "cell_type": "code",
   "execution_count": 25,
   "metadata": {},
   "outputs": [
    {
     "data": {
      "text/plain": [
       "Parameter containing:\n",
       "tensor([ 0.6903])"
      ]
     },
     "execution_count": 25,
     "metadata": {},
     "output_type": "execute_result"
    }
   ],
   "source": [
    "feedforward.h2o.bias"
   ]
  },
  {
   "cell_type": "code",
   "execution_count": 26,
   "metadata": {},
   "outputs": [
    {
     "data": {
      "text/plain": [
       "torch.Size([10, 2])"
      ]
     },
     "execution_count": 26,
     "metadata": {},
     "output_type": "execute_result"
    }
   ],
   "source": [
    "feedforward.i2h.weight.size()"
   ]
  },
  {
   "cell_type": "code",
   "execution_count": 27,
   "metadata": {},
   "outputs": [],
   "source": [
    "def evaluate(feedforward,input_tensor):\n",
    "    output = feedforward(input_tensor)\n",
    "    return output"
   ]
  },
  {
   "cell_type": "code",
   "execution_count": 35,
   "metadata": {},
   "outputs": [],
   "source": [
    "input_tensor = sample_lebel_1[0]"
   ]
  },
  {
   "cell_type": "code",
   "execution_count": 29,
   "metadata": {},
   "outputs": [
    {
     "data": {
      "text/plain": [
       "tensor(1.00000e-05 *\n",
       "       [[-2.6941]])"
      ]
     },
     "execution_count": 29,
     "metadata": {},
     "output_type": "execute_result"
    }
   ],
   "source": [
    "evaluate(feedforward,input_tensor)"
   ]
  },
  {
   "cell_type": "code",
   "execution_count": 30,
   "metadata": {},
   "outputs": [
    {
     "data": {
      "text/plain": [
       "tensor([[ 4.8754,  3.7492]])"
      ]
     },
     "execution_count": 30,
     "metadata": {},
     "output_type": "execute_result"
    }
   ],
   "source": [
    "input_tensor"
   ]
  },
  {
   "cell_type": "code",
   "execution_count": 31,
   "metadata": {},
   "outputs": [],
   "source": [
    "input_tensor[0] = 0.0"
   ]
  },
  {
   "cell_type": "code",
   "execution_count": 34,
   "metadata": {},
   "outputs": [
    {
     "data": {
      "text/plain": [
       "tensor([[ 0.,  0.]])"
      ]
     },
     "execution_count": 34,
     "metadata": {},
     "output_type": "execute_result"
    }
   ],
   "source": [
    "input_tensor"
   ]
  },
  {
   "cell_type": "code",
   "execution_count": 36,
   "metadata": {},
   "outputs": [
    {
     "data": {
      "text/plain": [
       "tensor([[ 0.,  0.]])"
      ]
     },
     "execution_count": 36,
     "metadata": {},
     "output_type": "execute_result"
    }
   ],
   "source": [
    "sample_lebel_1[0]"
   ]
  },
  {
   "cell_type": "code",
   "execution_count": 37,
   "metadata": {},
   "outputs": [],
   "source": [
    "input_tensor = torch.tensor([ 4.8754,  3.7492])"
   ]
  },
  {
   "cell_type": "code",
   "execution_count": 38,
   "metadata": {},
   "outputs": [
    {
     "data": {
      "text/plain": [
       "tensor([ 4.8754,  3.7492])"
      ]
     },
     "execution_count": 38,
     "metadata": {},
     "output_type": "execute_result"
    }
   ],
   "source": [
    "input_tensor"
   ]
  },
  {
   "cell_type": "code",
   "execution_count": 39,
   "metadata": {},
   "outputs": [
    {
     "data": {
      "text/plain": [
       "tensor([[ 0.,  0.]])"
      ]
     },
     "execution_count": 39,
     "metadata": {},
     "output_type": "execute_result"
    }
   ],
   "source": [
    "sample_lebel_1[0]"
   ]
  },
  {
   "cell_type": "code",
   "execution_count": 42,
   "metadata": {},
   "outputs": [],
   "source": [
    "sample_lebel_1[0][0][1] = 3.7492"
   ]
  },
  {
   "cell_type": "code",
   "execution_count": 43,
   "metadata": {},
   "outputs": [
    {
     "data": {
      "text/plain": [
       "tensor([[ 0.0000,  3.7492]])"
      ]
     },
     "execution_count": 43,
     "metadata": {},
     "output_type": "execute_result"
    }
   ],
   "source": [
    "sample_lebel_1[0]"
   ]
  },
  {
   "cell_type": "code",
   "execution_count": 44,
   "metadata": {},
   "outputs": [
    {
     "data": {
      "text/plain": [
       "tensor(1.00000e-05 *\n",
       "       [[-5.4120]])"
      ]
     },
     "execution_count": 44,
     "metadata": {},
     "output_type": "execute_result"
    }
   ],
   "source": [
    "evaluate(feedforward,sample_lebel_1[0])"
   ]
  },
  {
   "cell_type": "code",
   "execution_count": 45,
   "metadata": {},
   "outputs": [
    {
     "data": {
      "text/plain": [
       "tensor([[ 0.0000,  3.7492]])"
      ]
     },
     "execution_count": 45,
     "metadata": {},
     "output_type": "execute_result"
    }
   ],
   "source": [
    "sample_lebel_1[0]"
   ]
  },
  {
   "cell_type": "code",
   "execution_count": 49,
   "metadata": {},
   "outputs": [],
   "source": [
    "x = evaluate(feedforward,sample_lebel_1[0])"
   ]
  },
  {
   "cell_type": "code",
   "execution_count": 50,
   "metadata": {},
   "outputs": [
    {
     "data": {
      "text/plain": [
       "tensor([[-18477.6113]])"
      ]
     },
     "execution_count": 50,
     "metadata": {},
     "output_type": "execute_result"
    }
   ],
   "source": [
    "1/x"
   ]
  },
  {
   "cell_type": "code",
   "execution_count": 51,
   "metadata": {},
   "outputs": [
    {
     "data": {
      "text/plain": [
       "tensor([[-18478.6113]])"
      ]
     },
     "execution_count": 51,
     "metadata": {},
     "output_type": "execute_result"
    }
   ],
   "source": [
    "1/x - 1"
   ]
  },
  {
   "cell_type": "code",
   "execution_count": 54,
   "metadata": {},
   "outputs": [
    {
     "data": {
      "text/plain": [
       "tensor([[ 9.8243]])"
      ]
     },
     "execution_count": 54,
     "metadata": {},
     "output_type": "execute_result"
    }
   ],
   "source": [
    "-torch.log(1/torch.exp(x) -1)"
   ]
  },
  {
   "cell_type": "code",
   "execution_count": null,
   "metadata": {},
   "outputs": [],
   "source": []
  }
 ],
 "metadata": {
  "kernelspec": {
   "display_name": "Python 3",
   "language": "python",
   "name": "python3"
  },
  "language_info": {
   "codemirror_mode": {
    "name": "ipython",
    "version": 3
   },
   "file_extension": ".py",
   "mimetype": "text/x-python",
   "name": "python",
   "nbconvert_exporter": "python",
   "pygments_lexer": "ipython3",
   "version": "3.6.4"
  }
 },
 "nbformat": 4,
 "nbformat_minor": 2
}
