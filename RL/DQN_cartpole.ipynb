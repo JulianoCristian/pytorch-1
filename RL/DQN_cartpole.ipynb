{
 "cells": [
  {
   "cell_type": "raw",
   "metadata": {},
   "source": [
    "This is a simple implementation of Deep Q network proposed by Mnih et.al 2015. We consider here the simple Cartpole game.  "
   ]
  },
  {
   "cell_type": "code",
   "execution_count": 59,
   "metadata": {},
   "outputs": [],
   "source": [
    "import gym\n",
    "import math\n",
    "import random\n",
    "import numpy as np\n",
    "from collections import namedtuple\n",
    "from itertools import count\n",
    "\n",
    "import torch\n",
    "import torch.nn as nn\n",
    "import torch.optim as optim\n",
    "import torch.nn.functional as F"
   ]
  },
  {
   "cell_type": "code",
   "execution_count": 61,
   "metadata": {},
   "outputs": [
    {
     "name": "stdout",
     "output_type": "stream",
     "text": [
      "\u001b[33mWARN: gym.spaces.Box autodetected dtype as <class 'numpy.float32'>. Please provide explicit dtype.\u001b[0m\n"
     ]
    }
   ],
   "source": [
    "env = gym.make('CartPole-v0')"
   ]
  },
  {
   "cell_type": "code",
   "execution_count": 5,
   "metadata": {},
   "outputs": [],
   "source": [
    "state = env.reset()"
   ]
  },
  {
   "cell_type": "code",
   "execution_count": 11,
   "metadata": {},
   "outputs": [
    {
     "data": {
      "text/plain": [
       "0"
      ]
     },
     "execution_count": 11,
     "metadata": {},
     "output_type": "execute_result"
    }
   ],
   "source": [
    "random.randint(0,1)"
   ]
  },
  {
   "cell_type": "code",
   "execution_count": 46,
   "metadata": {},
   "outputs": [
    {
     "name": "stdout",
     "output_type": "stream",
     "text": [
      "[-0.03766803 -0.18497433 -0.00271551  0.31925608] 1.0 False\n",
      "[-0.04136751 -0.3800575   0.00366962  0.61108141] 1.0 False\n",
      "[-0.04896866 -0.57523055  0.01589124  0.90491787] 1.0 False\n",
      "[-0.06047328 -0.38032737  0.0339896   0.61727185] 1.0 False\n",
      "[-0.06807982 -0.18569632  0.04633504  0.33548491] 1.0 False\n",
      "[-0.07179375  0.00873663  0.05304474  0.05776613] 1.0 False\n",
      "[-0.07161902 -0.18710418  0.05420006  0.366702  ] 1.0 False\n",
      "[-0.0753611  -0.38295275  0.0615341   0.67597048] 1.0 False\n",
      "[-0.08302016 -0.57887334  0.07505351  0.98737477] 1.0 False\n",
      "[-0.09459762 -0.77491566  0.094801    1.30265542] 1.0 False\n",
      "[-0.11009594 -0.58111551  0.12085411  1.04109029] 1.0 False\n",
      "[-0.12171825 -0.77761739  0.14167592  1.36913787] 1.0 False\n",
      "[-0.13727059 -0.58452367  0.16905868  1.12391279] 1.0 False\n",
      "[-0.14896107 -0.78140905  0.19153693  1.46449736] 1.0 False\n"
     ]
    }
   ],
   "source": [
    "flag = 0\n",
    "env.reset()\n",
    "while True:\n",
    "    state,reward,done,_ = env.step(random.randint(0,1))\n",
    "    if done:\n",
    "        state = None\n",
    "        flag = 1\n",
    "    if state is not None:    \n",
    "        print(state,reward,done)\n",
    "    if flag==1:\n",
    "        break\n",
    "  "
   ]
  },
  {
   "cell_type": "raw",
   "metadata": {},
   "source": [
    "# Generate state action samples..We generate beforehand a large number of samples so that we can sample from them later.\n",
    "# It is termed as the replay memory. Sampling from this set reduces the correlation between observations..\n",
    "# We would essentially a cyclic buffer of fixed size i.e., if the buffer is full and we would like to insert new observations we would remove the oldest memory to make way "
   ]
  },
  {
   "cell_type": "code",
   "execution_count": 196,
   "metadata": {},
   "outputs": [],
   "source": [
    "class ReplayMemory:\n",
    "    def __init__(self,capacity):\n",
    "        self.capacity = capacity\n",
    "        self.memory = []\n",
    "    \n",
    "    def push(self,transition):\n",
    "        if len(self.memory)<self.capacity:\n",
    "            self.memory.append(transition)\n",
    "        else:\n",
    "            self.memory = self.memory[:-1]\n",
    "            self.memory = [transition] + self.memory\n",
    "            \n",
    "    def sample(self, batch_size):\n",
    "        return random.sample(self.memory, batch_size)\n",
    "    \n",
    "    def memoryLength(self):\n",
    "        return len(self.memory)"
   ]
  },
  {
   "cell_type": "code",
   "execution_count": 203,
   "metadata": {},
   "outputs": [],
   "source": [
    "# cartpole game has two discrete actions. Our module which tries to estimate the Q-function takes the state as input\n",
    "# outputs estimates of Q(state, left) and Q(state, right)\n",
    "# we use two-layer feed forward network here...(this ofcourse is not the best choice but good enough for our understanding)\n",
    "\n",
    "class DQN(nn.Module):\n",
    "    def __init__(self, input_size, hidden_size, output_size):\n",
    "        super(DQN, self).__init__()\n",
    "        \n",
    "        self.i2h = nn.Linear(input_size,hidden_size)\n",
    "        self.h2h = nn.Linear(hidden_size,hidden_size)\n",
    "        self.h2o = nn.Linear(hidden_size,output_size)\n",
    "\n",
    "    def forward(self, input):\n",
    "        output = self.i2h(input)\n",
    "        output = self.h2h(output)\n",
    "        output = self.h2o(output)\n",
    "        return output"
   ]
  },
  {
   "cell_type": "code",
   "execution_count": 204,
   "metadata": {},
   "outputs": [],
   "source": [
    "q_net = DQN(4,25,2)\n",
    "v_net = DQN(4,25,2)"
   ]
  },
  {
   "cell_type": "code",
   "execution_count": 205,
   "metadata": {},
   "outputs": [],
   "source": [
    "steps_done = 0\n",
    "transition = namedtuple('transition','state next_state reward action')\n",
    "GAMMA = 0.999\n",
    "EPS_START = 0.9\n",
    "EPS_END = 0.05\n",
    "EPS_DECAY = 200\n",
    "TARGET_UPDATE = 10\n",
    "\n",
    "def select_action(q_net,state):\n",
    "    global steps_done\n",
    "    sample = random.random()\n",
    "    eps_threshold = EPS_END + (EPS_START - EPS_END) * \\\n",
    "        math.exp(-1. * steps_done / EPS_DECAY)\n",
    "    steps_done += 1\n",
    "    if sample > eps_threshold:\n",
    "        with torch.no_grad():\n",
    "            #print(state)\n",
    "            #print(q_net(state))\n",
    "            return q_net(state).max(1)[1].item()\n",
    "    else:\n",
    "        return random.randrange(2)"
   ]
  },
  {
   "cell_type": "code",
   "execution_count": 206,
   "metadata": {},
   "outputs": [],
   "source": [
    "v_net = DQN(4,25,2)\n",
    "v_net.load_state_dict(q_net.state_dict())"
   ]
  },
  {
   "cell_type": "code",
   "execution_count": 207,
   "metadata": {},
   "outputs": [],
   "source": [
    "optimizer = optim.RMSprop(q_net.parameters())\n",
    "memory = ReplayMemory(10000)"
   ]
  },
  {
   "cell_type": "code",
   "execution_count": 208,
   "metadata": {},
   "outputs": [],
   "source": [
    "BATCH_SIZE = 128\n",
    "def optimize_model():\n",
    "    if memory.memoryLength() < BATCH_SIZE:\n",
    "        return\n",
    "    transitions = memory.sample(BATCH_SIZE)\n",
    "    #print(len(transitions))\n",
    "    # gather all non-final transistion\n",
    "    n_f_transitions = list(filter(lambda x:x.next_state is not None,transitions))\n",
    "    #[s for s in transitions and s.next_state is None]\n",
    "    rewards = torch.tensor([s.reward.item() for s in n_f_transitions]).view(-1,1)\n",
    "    batch_states = torch.cat([s.state for s in n_f_transitions],0)\n",
    "    batch_next_states = torch.cat([s.next_state for s in n_f_transitions],0)\n",
    "    batch_actions = torch.tensor([s.action for s in n_f_transitions]).view(-1,1)\n",
    "    \n",
    "    # obtain the expected q-net value\n",
    "    q_net_val = q_net(batch_states).gather(1,batch_actions)\n",
    "    \n",
    "    # obtain the q-net value\n",
    "    v_net_val = v_net(batch_next_states).max(1)[0].view(-1,1)\n",
    "    v_net_val = GAMMA*v_net_val + rewards\n",
    "    \n",
    "    \n",
    "    loss = F.smooth_l1_loss(q_net_val, v_net_val.detach())\n",
    "    #print(\"loss\",loss)\n",
    "    # Optimize the model\n",
    "    optimizer.zero_grad()\n",
    "    loss.backward()\n",
    "    \n",
    "    optimizer.step()\n",
    "    "
   ]
  },
  {
   "cell_type": "code",
   "execution_count": 209,
   "metadata": {},
   "outputs": [
    {
     "name": "stdout",
     "output_type": "stream",
     "text": [
      "27\n",
      "8\n",
      "9\n",
      "9\n",
      "9\n",
      "10\n",
      "8\n",
      "10\n",
      "10\n",
      "9\n",
      "Complete\n"
     ]
    }
   ],
   "source": [
    "episode_durations = []\n",
    "num_episodes = 1000\n",
    "for i_episode in range(num_episodes):\n",
    "    curr_state = env.reset()\n",
    "    for t in count():\n",
    "        c_s_tensor = torch.from_numpy(curr_state).float().view(1,4)\n",
    "        action = select_action(q_net,c_s_tensor)\n",
    "        next_state, reward, done, _ = env.step(action)\n",
    "        reward = torch.tensor([reward])\n",
    "        \n",
    "        if done:\n",
    "            next_state = None\n",
    "\n",
    "        # Store the transition in memory\n",
    "        if next_state is not None:\n",
    "            n_s_tensor = torch.from_numpy(next_state).float().view(1,4)\n",
    "        else:\n",
    "            n_s_tensor = None\n",
    "        #print(reward)    \n",
    "        #r_tensor = torch.from_numpy(reward).float().view(1,1)\n",
    "        memory.push(transition(state=c_s_tensor, action=action, next_state=n_s_tensor, reward=reward))\n",
    "\n",
    "        # Move to the next state\n",
    "        curr_state = next_state\n",
    "\n",
    "        # Perform one step of the optimization (on the target network)\n",
    "        optimize_model()\n",
    "        if done:\n",
    "            episode_durations.append(t + 1)\n",
    "            break\n",
    "    if i_episode % 100 ==0:\n",
    "        print(episode_durations[i_episode])\n",
    "    # Update the target network\n",
    "    if i_episode % TARGET_UPDATE == 0:\n",
    "        v_net.load_state_dict(q_net.state_dict())\n",
    "\n",
    "print('Complete')\n",
    "env.close()"
   ]
  },
  {
   "cell_type": "code",
   "execution_count": 115,
   "metadata": {},
   "outputs": [],
   "source": [
    "import matplotlib.pyplot as plt"
   ]
  },
  {
   "cell_type": "code",
   "execution_count": 121,
   "metadata": {},
   "outputs": [
    {
     "data": {
      "text/plain": [
       "[<matplotlib.lines.Line2D at 0x11650fd68>]"
      ]
     },
     "execution_count": 121,
     "metadata": {},
     "output_type": "execute_result"
    },
    {
     "data": {
      "image/png": "[encoded data removed]",
      "text/plain": [
       "<matplotlib.figure.Figure at 0x1165155f8>"
      ]
     },
     "metadata": {},
     "output_type": "display_data"
    }
   ],
   "source": [
    "plt.plot(episode_durations)"
   ]
  },
  {
   "cell_type": "code",
   "execution_count": null,
   "metadata": {},
   "outputs": [],
   "source": []
  }
 ],
 "metadata": {
  "kernelspec": {
   "display_name": "Python 3",
   "language": "python",
   "name": "python3"
  },
  "language_info": {
   "codemirror_mode": {
    "name": "ipython",
    "version": 3
   },
   "file_extension": ".py",
   "mimetype": "text/x-python",
   "name": "python",
   "nbconvert_exporter": "python",
   "pygments_lexer": "ipython3",
   "version": "3.6.4"
  }
 },
 "nbformat": 4,
 "nbformat_minor": 2
}
